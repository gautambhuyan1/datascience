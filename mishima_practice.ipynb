{
 "cells": [
  {
   "cell_type": "code",
   "execution_count": 5,
   "metadata": {
    "collapsed": false
   },
   "outputs": [
    {
     "name": "stdout",
     "output_type": "stream",
     "text": [
      "hello world\n"
     ]
    }
   ],
   "source": [
    "#This program makes the computer say hello world. It is a starter program.\n",
    "x = \"hello\"\n",
    "v = \" \"\n",
    "y = \"world\"\n",
    "print (x+v+y)"
   ]
  },
  {
   "cell_type": "code",
   "execution_count": 3,
   "metadata": {
    "collapsed": false
   },
   "outputs": [
    {
     "name": "stdout",
     "output_type": "stream",
     "text": [
      "xyz\n",
      "mishika\n",
      "xyz\n",
      "anushka\n",
      "xyz\n",
      "anisha\n"
     ]
    }
   ],
   "source": [
    "# This program prints a list of bff's ;)\n",
    "mylist = ['mishika', 'anushka', 'anisha']\n",
    "\n",
    "\n",
    "for x in mylist:\n",
    "    print ('xyz')\n",
    "    print (x)"
   ]
  },
  {
   "cell_type": "code",
   "execution_count": 9,
   "metadata": {
    "collapsed": false
   },
   "outputs": [
    {
     "name": "stdout",
     "output_type": "stream",
     "text": [
      "['leanna', 'Joanne', 'Aditi', 'Mishika', 'Adi', 'anirud']\n",
      "I go to gap,\n",
      "leanna\n",
      "I go to gap,\n",
      "Joanne\n",
      "I go to gap,\n",
      "Aditi\n",
      "I go to gap,\n",
      "Mishika\n",
      "I go to gap,\n",
      "Adi\n",
      "I go to gap,\n",
      "anirud\n"
     ]
    }
   ],
   "source": [
    "# this program says what kids go to gap.\n",
    "gapstudents = ['leanna','Joanne','Aditi','Mishika','Adi','anirud']\n",
    "\n",
    "print (gapstudents)\n",
    "\n",
    "for x in gapstudents:\n",
    "    print (\"I go to gap,\")\n",
    "    print (x)"
   ]
  },
  {
   "cell_type": "code",
   "execution_count": 12,
   "metadata": {
    "collapsed": false
   },
   "outputs": [
    {
     "name": "stdout",
     "output_type": "stream",
     "text": [
      "Which grade: grade3\n",
      "McCaw\n"
     ]
    }
   ],
   "source": [
    "#this tells what teacher teaches which grade when you type in a grade. \n",
    "mylist = {\"kindergarten\": \"Mancini\", \"grade1\": \"Hubbs\", \"grade2\": \"Rahn\", \"grade3\":\"McCaw\", \"grade4\": \"Siweic\"}\n",
    "grade = input(\"Which grade: \")\n",
    "print(mylist[grade])"
   ]
  },
  {
   "cell_type": "code",
   "execution_count": 17,
   "metadata": {
    "collapsed": false
   },
   "outputs": [
    {
     "name": "stdout",
     "output_type": "stream",
     "text": [
      "who ran:Joanne\n",
      "8\n"
     ]
    }
   ],
   "source": [
    "#This program says who ran the most laps in our class on a certain day.\n",
    "mostlapstoday = {\"Joanne\": \"8\",\"Leanna\":\"8\", \"Anirud\": \"7\", \"Adam\":\"8\", \"Adi\": \"7\"}\n",
    "laps = input (\"who ran:\")\n",
    "print (mostlapstoday[laps])"
   ]
  },
  {
   "cell_type": "code",
   "execution_count": 24,
   "metadata": {
    "collapsed": false
   },
   "outputs": [
    {
     "name": "stdout",
     "output_type": "stream",
     "text": [
      "which master:Caroline\n",
      "Prodigy queen\n"
     ]
    }
   ],
   "source": [
    "#this program tells the prodigy rulers nicknames when you type in their name\n",
    "prodigyrulers = {\"Caroline\":\"Prodigy queen\", \"Anirud\": \"prodigy whiz\", \"Max\": \"prodigy finder\"}\n",
    "masters = input (\"which master:\")\n",
    "print (prodigyrulers[masters])"
   ]
  },
  {
   "cell_type": "code",
   "execution_count": 25,
   "metadata": {
    "collapsed": false
   },
   "outputs": [
    {
     "data": {
      "text/plain": [
       "47"
      ]
     },
     "execution_count": 25,
     "metadata": {},
     "output_type": "execute_result"
    }
   ],
   "source": [
    "12+35"
   ]
  },
  {
   "cell_type": "code",
   "execution_count": null,
   "metadata": {
    "collapsed": false
   },
   "outputs": [],
   "source": [
    "#This program adds the two numbers\n",
    "x = 42\n",
    "y = 39\n",
    "print (x+y)"
   ]
  },
  {
   "cell_type": "code",
   "execution_count": 5,
   "metadata": {
    "collapsed": false
   },
   "outputs": [
    {
     "name": "stdout",
     "output_type": "stream",
     "text": [
      "what is the younger siblings age: 6\n",
      "what is the age difference: 3\n",
      "The older siblings age is:  9\n"
     ]
    }
   ],
   "source": [
    "#This program can tell the older siblings age based on the younger ones age and the difference between the two.\n",
    "youngerage = int(input (\"what is the younger siblings age: \"))\n",
    "difference = int(input (\"what is the age difference: \"))\n",
    "olderage =  youngerage + difference\n",
    "print (\"The older siblings age is: \", olderage)"
   ]
  },
  {
   "cell_type": "code",
   "execution_count": 4,
   "metadata": {
    "collapsed": false
   },
   "outputs": [
    {
     "name": "stdout",
     "output_type": "stream",
     "text": [
      "Joanne says, play popsico!\n"
     ]
    }
   ],
   "source": [
    "# This program is what joanne actually says too much. Therfore, this program says the truth\n",
    "w = \"Joanne says, \"\n",
    "x = \"play\"\n",
    "v = \" \"\n",
    "y = \"popsico!\"\n",
    "print (w+x+v+y)"
   ]
  },
  {
   "cell_type": "code",
   "execution_count": 10,
   "metadata": {
    "collapsed": false
   },
   "outputs": [
    {
     "name": "stdout",
     "output_type": "stream",
     "text": [
      "Which studentHanya\n",
      "McDevit\n"
     ]
    }
   ],
   "source": [
    "studentsteachers = {\"Hanya\": \"McDevit\", \"Tommmy\": \"Osborne\", \"Taliah\": \"Siwiec\", \"Kashaun\": \"Durkin\"}\n",
    "Students = input (\"Which student\")\n",
    "print(studentsteachers[Students])"
   ]
  },
  {
   "cell_type": "code",
   "execution_count": 23,
   "metadata": {
    "collapsed": false
   },
   "outputs": [
    {
     "name": "stdout",
     "output_type": "stream",
     "text": [
      "{'Joanne': 7, 'Leanna': 11, 'Anirud': 6, 'Max': 2}\n",
      "These students birthdays are in July and before\n",
      "Joanne 7\n",
      "These students birthdays are in July and before\n",
      "Anirud 6\n",
      "These students birthdays are in July and before\n",
      "Max 2\n"
     ]
    }
   ],
   "source": [
    "Studentsbirthdays = {\"Leanna\": 11, \"Joanne\": 7, \"Max\": 2, \"Anirud\": 6}\n",
    "\n",
    "print (Studentsbirthdays)\n",
    "\n",
    "\n",
    "\n",
    "for student, month in Studentsbirthdays.items(): \n",
    "    if month <= 7:\n",
    "        print (\"These students birthdays are in July and before\")\n",
    "        print (student, month)\n"
   ]
  },
  {
   "cell_type": "code",
   "execution_count": 2,
   "metadata": {
    "collapsed": false
   },
   "outputs": [
    {
     "name": "stdout",
     "output_type": "stream",
     "text": [
      "Name an Adjectivesmart\n",
      "Name a Noungirl\n",
      "Name a Verb ending with -ed coded\n",
      "The smart girl coded over the girl's cat\n"
     ]
    }
   ],
   "source": [
    "adjective = input (\"Name an Adjective\")\n",
    "noun = input (\"Name a Noun\")\n",
    "verb = input (\"Name a Verb ending with -ed \")\n",
    "print (\"The\", adjective, noun, verb, \"over the girl's cat\" )"
   ]
  },
  {
   "cell_type": "code",
   "execution_count": 13,
   "metadata": {
    "collapsed": false
   },
   "outputs": [
    {
     "name": "stdout",
     "output_type": "stream",
     "text": [
      "Put in a nameSia\n",
      "This person is in the trick or treaters group\n",
      "Aditi\n",
      "Sia\n",
      "Joanne\n",
      "Mishika\n"
     ]
    }
   ],
   "source": [
    "trickortreaters = [\"Aditi\", \"Sia\", \"Joanne\", \"Mishika\"]\n",
    "name = input (\"Put in a name\")\n",
    "if name in trickortreaters:\n",
    "    print (\"This person is in the trick or treaters group\")\n",
    "else:\n",
    "    print (\"This person is not in the trick or treaters group\")\n",
    "for x in trickortreaters:\n",
    "    print (x)"
   ]
  },
  {
   "cell_type": "code",
   "execution_count": 3,
   "metadata": {
    "collapsed": false
   },
   "outputs": [
    {
     "name": "stdout",
     "output_type": "stream",
     "text": [
      "Put in a nameGautam\n",
      "Not Ok\n"
     ]
    }
   ],
   "source": [
    "trickortreaters = [\"Aditi\", \"Sia\", \"Joanne\", \"Mishika\"]\n",
    "name = input (\"Put in a name\")\n",
    "found = False\n",
    "for x in trickortreaters:\n",
    "    if x == name:\n",
    "        found = True\n",
    "        \n",
    "        \n",
    "if found == True:\n",
    "    print (\"OK\")\n",
    "else:\n",
    "    print (\"Not Ok\")"
   ]
  },
  {
   "cell_type": "code",
   "execution_count": 5,
   "metadata": {
    "collapsed": false
   },
   "outputs": [
    {
     "name": "stdout",
     "output_type": "stream",
     "text": [
      "Enter the person: Gautam\n",
      "Inside goodgirl\n",
      "Gautam  is a good girl\n",
      "Inside dontknow\n",
      "I do not know  Gautam\n"
     ]
    }
   ],
   "source": [
    "def goodgirl(x):\n",
    "    print(\"Inside goodgirl\")\n",
    "    print(x, \" is a good girl\")\n",
    "    return\n",
    "\n",
    "def dontknow(x):\n",
    "    print(\"Inside dontknow\")\n",
    "    print(\"I do not know \", x)\n",
    "    return\n",
    "\n",
    "name = input(\"Enter the person: \")\n",
    "\n",
    "goodgirl(name)\n",
    "\n",
    "dontknow(name)"
   ]
  },
  {
   "cell_type": "code",
   "execution_count": 7,
   "metadata": {
    "collapsed": false
   },
   "outputs": [
    {
     "name": "stdout",
     "output_type": "stream",
     "text": [
      "enter the first number5\n",
      "enter the second number7\n",
      "32\n",
      "40\n"
     ]
    }
   ],
   "source": [
    "def fivetimesfirst(x, y):\n",
    "    print (5*x+y)\n",
    "    return\n",
    "\n",
    "def fivetimessecond (x, y):\n",
    "    print (5*y+x)\n",
    "    return\n",
    "\n",
    "x = eval(input (\"enter the first number\"))\n",
    "y = eval(input (\"enter the second number\"))\n",
    "\n",
    "fivetimesfirst (x, y)\n",
    "\n",
    "fivetimessecond (x, y)"
   ]
  },
  {
   "cell_type": "code",
   "execution_count": null,
   "metadata": {
    "collapsed": true
   },
   "outputs": [],
   "source": []
  }
 ],
 "metadata": {
  "anaconda-cloud": {},
  "kernelspec": {
   "display_name": "Python [default]",
   "language": "python",
   "name": "python3"
  },
  "language_info": {
   "codemirror_mode": {
    "name": "ipython",
    "version": 3
   },
   "file_extension": ".py",
   "mimetype": "text/x-python",
   "name": "python",
   "nbconvert_exporter": "python",
   "pygments_lexer": "ipython3",
   "version": "3.5.2"
  }
 },
 "nbformat": 4,
 "nbformat_minor": 1
}
