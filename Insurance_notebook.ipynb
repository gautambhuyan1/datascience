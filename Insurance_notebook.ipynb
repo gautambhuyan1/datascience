{
 "cells": [
  {
   "cell_type": "code",
   "execution_count": 15,
   "metadata": {
    "collapsed": false
   },
   "outputs": [
    {
     "data": {
      "text/plain": [
       "'Actual: 4103.24923176843 Predicted: 3756.6216'"
      ]
     },
     "execution_count": 15,
     "metadata": {},
     "output_type": "execute_result"
    }
   ],
   "source": [
    "import pandas as pd\n",
    "import numpy as np\n",
    "import matplotlib as mt\n",
    "from sklearn.model_selection import train_test_split\n",
    "from sklearn.impute import SimpleImputer\n",
    "from sklearn.linear_model import LinearRegression\n",
    "\n",
    "insurance = pd.read_csv(\"../../dataset/misc/insurance.csv\")\n",
    "features = insurance[['age', 'sex', 'bmi', 'children', 'smoker', 'region']]\n",
    "labels = insurance.charges\n",
    "feature_transform = pd.get_dummies(features)\n",
    "X = feature_transform.values\n",
    "\n",
    "train_data, test_data, train_label, test_label = train_test_split(X, labels, random_state=0)\n",
    "\n",
    "if np.isnan(X).any():\n",
    "    simp = SimpleImputer()\n",
    "    simp.fit(train_data)\n",
    "    train_trans = simp.transform(train_data)\n",
    "    test_trans = simp.transform(test_data)\n",
    "\n",
    "reg = LinearRegression()\n",
    "reg.fit(train_data, train_label)\n",
    "reg.score(test_data, test_label)\n",
    "predict_label = reg.predict(test_data)\n",
    "index = 5\n",
    "\"Actual: {} Predicted: {}\".format(predict_label[index], test_label[index])"
   ]
  },
  {
   "cell_type": "code",
   "execution_count": 7,
   "metadata": {
    "collapsed": false
   },
   "outputs": [
    {
     "data": {
      "text/plain": [
       "{'coding': 0, 'fun': 1, 'go': 2, 'in': 3, 'is': 4, 'python': 5, 'so': 6}"
      ]
     },
     "execution_count": 7,
     "metadata": {},
     "output_type": "execute_result"
    }
   ],
   "source": [
    "from sklearn.feature_extraction.text import CountVectorizer\n",
    "\n",
    "X = [\"Coding in Python is fun\", \"So is coding in go\"]\n",
    "\n",
    "vectorizer = CountVectorizer()\n",
    "vectorizer.fit(X)\n",
    "vectorizer.vocabulary_"
   ]
  },
  {
   "cell_type": "code",
   "execution_count": 8,
   "metadata": {
    "collapsed": false
   },
   "outputs": [
    {
     "data": {
      "text/plain": [
       "array([52. , 30.2,  1. ,  0. ,  1. ,  1. ,  0. ,  0. ,  0. ,  0. ,  1. ])"
      ]
     },
     "execution_count": 8,
     "metadata": {},
     "output_type": "execute_result"
    }
   ],
   "source": [
    "test_data[0]"
   ]
  },
  {
   "cell_type": "code",
   "execution_count": null,
   "metadata": {
    "collapsed": true
   },
   "outputs": [],
   "source": []
  }
 ],
 "metadata": {
  "anaconda-cloud": {},
  "kernelspec": {
   "display_name": "Python [default]",
   "language": "python",
   "name": "python3"
  },
  "language_info": {
   "codemirror_mode": {
    "name": "ipython",
    "version": 3
   },
   "file_extension": ".py",
   "mimetype": "text/x-python",
   "name": "python",
   "nbconvert_exporter": "python",
   "pygments_lexer": "ipython3",
   "version": "3.5.2"
  }
 },
 "nbformat": 4,
 "nbformat_minor": 1
}
